{
 "cells": [
  {
   "cell_type": "code",
   "execution_count": null,
   "id": "6163e63f",
   "metadata": {},
   "outputs": [],
   "source": [
    "Get user input using input(“Enter your age: ”). \n",
    "If user is 18 or older, give feedback: You are old enough to drive. If below 18 give feedback to wait for the missing amount of years."
   ]
  },
  {
   "cell_type": "code",
   "execution_count": 1,
   "id": "8e2c85da",
   "metadata": {},
   "outputs": [
    {
     "name": "stdout",
     "output_type": "stream",
     "text": [
      "Enter your age:22\n",
      "You are old enough to drive.\n"
     ]
    }
   ],
   "source": [
    "age = int(input('Enter your age:'));\n",
    "if age > 17 :\n",
    "    print('You are old enough to drive.')\n",
    "else:\n",
    "    print('You need '+str(18 - age)+' more years to learn to drive.')"
   ]
  },
  {
   "cell_type": "code",
   "execution_count": null,
   "id": "61fe0011",
   "metadata": {},
   "outputs": [],
   "source": [
    "Compare the values of my_age and your_age using if-else. \n",
    "Who is older (me or you)? Use input(“Enter your age: ”) to get the age as input. \n",
    "You can use a nested condition to print 'year' for 1 year difference in age, 'years' for bigger differences, \n",
    "and a custom text if my_age = your_age."
   ]
  },
  {
   "cell_type": "code",
   "execution_count": 3,
   "id": "bfad1540",
   "metadata": {},
   "outputs": [
    {
     "name": "stdout",
     "output_type": "stream",
     "text": [
      "Enter your age:19\n",
      "You are -6 years older than me.\n"
     ]
    }
   ],
   "source": [
    "age = int(input('Enter your age:'));\n",
    "if (age-25) ==1:\n",
    "    print(str(age)+'for 1 year difference')\n",
    "else :\n",
    "    print('You are '+str(age-25)+' years older than me.')"
   ]
  },
  {
   "cell_type": "code",
   "execution_count": null,
   "id": "d65af2eb",
   "metadata": {},
   "outputs": [],
   "source": [
    "Get two numbers from the user using input prompt. If num_1 is greater than num_2 return num_1 is greater than num_2, \n",
    "if num_1 is less num_2 return num_1 is smaller than num_2, else num_1 is equal to num_2. Output:"
   ]
  },
  {
   "cell_type": "code",
   "execution_count": 4,
   "id": "c0d1d4f1",
   "metadata": {},
   "outputs": [
    {
     "name": "stdout",
     "output_type": "stream",
     "text": [
      "Enter number one:5\n",
      "Enter number two:7\n",
      "7 is greater than 5\n"
     ]
    }
   ],
   "source": [
    "one = int(input('Enter number one:'))\n",
    "two = int(input('Enter number two:'))\n",
    "if one>two:\n",
    "    print(one,'is greater than',two)\n",
    "else:\n",
    "    print(two,'is greater than',one)"
   ]
  },
  {
   "cell_type": "code",
   "execution_count": 5,
   "id": "f94e3df2",
   "metadata": {},
   "outputs": [
    {
     "name": "stdout",
     "output_type": "stream",
     "text": [
      "Enter your grade:98\n",
      "A\n"
     ]
    }
   ],
   "source": [
    "grade = int(input('Enter your grade:'))\n",
    "if grade>=90 and grade<=100:\n",
    "    print('A')\n",
    "elif grade>=70 and grade <= 89:\n",
    "    print('B')\n",
    "elif grade>=60 and grade <=69:\n",
    "    print('C')\n",
    "elif grade>=50 and grade <=59:\n",
    "    print('C')\n",
    "elif grade>=0 and grade <=49:\n",
    "    print('F')"
   ]
  },
  {
   "cell_type": "code",
   "execution_count": 7,
   "id": "e62921f4",
   "metadata": {},
   "outputs": [
    {
     "name": "stdout",
     "output_type": "stream",
     "text": [
      "Enter month:March\n",
      "Spring\n"
     ]
    }
   ],
   "source": [
    "Autumn = ['September', 'October','November']\n",
    "Winter = ['December', 'January','February']\n",
    "Spring = ['March', 'April' ,'May']\n",
    "Summer=['June', 'July', 'August']\n",
    "month = str(input('Enter month:'))\n",
    "if month in Autumn:\n",
    "    print('Autumn')\n",
    "elif month in Winter:\n",
    "    print('Winter')\n",
    "elif month in Spring:\n",
    "    print('Spring')\n",
    "elif month in Summer:\n",
    "    print('Summer')"
   ]
  },
  {
   "cell_type": "code",
   "execution_count": 8,
   "id": "036b2b85",
   "metadata": {},
   "outputs": [
    {
     "name": "stdout",
     "output_type": "stream",
     "text": [
      "Enter a fruitpear\n",
      "pear already exist in the list\n"
     ]
    }
   ],
   "source": [
    "fruits = ['banana', 'orange', 'mango', 'pear']\n",
    "fruit = str(input('Enter a fruit'))\n",
    "if fruit in fruits:\n",
    "    print(fruit,'already exist in the list')\n",
    "else :\n",
    "    fruits.append(fruit)\n",
    "    print(fruits)"
   ]
  },
  {
   "cell_type": "code",
   "execution_count": 9,
   "id": "f3bcd255",
   "metadata": {},
   "outputs": [
    {
     "name": "stdout",
     "output_type": "stream",
     "text": [
      "R\n",
      "has Python\n",
      "He knows machine learning\n",
      "Milaan Parmar lived in Finland. He is married\n"
     ]
    }
   ],
   "source": [
    "person={\n",
    "    'first_name': 'Milaan',\n",
    "    'last_name': 'Parmar',\n",
    "    'age': 96,\n",
    "    'country': 'Finland',\n",
    "    'is_marred': True,\n",
    "    'skills': ['Python', 'Matlab', 'R', 'C', 'C++'],\n",
    "    'address': {\n",
    "        'street': 'Space street',\n",
    "        'zipcode': '02210'\n",
    "    }\n",
    "}\n",
    "\n",
    "if(person.__contains__('skills')):\n",
    "    list = person.get('skills')\n",
    "    print(list[int(len(list)/2)])\n",
    "\n",
    "if(person.__contains__('skills')):\n",
    "    list = person.get('skills')\n",
    "    if 'Python' in list:\n",
    "        print('has Python')\n",
    "    else:\n",
    "        print('no Python')\n",
    "\n",
    "\n",
    "if(person.__contains__('skills')):\n",
    "    list = person.get('skills')\n",
    "    if 'Python' in list and 'Matlab' in list:\n",
    "        print('He knows machine learning')\n",
    "    elif 'Python' in list and 'R' in list:\n",
    "        print('He knows statistics')\n",
    "    elif 'C' in list and 'C++' in list:\n",
    "        print('He knows software development')\n",
    "    else:\n",
    "        print('unknown title')\n",
    "\n",
    "if person.get('is_marred') and person.get('country')=='Finland':\n",
    "    print(person.get('first_name')+' '+person.get('last_name')+' lived in Finland. He is married')"
   ]
  },
  {
   "cell_type": "code",
   "execution_count": 10,
   "id": "bd4b96b7",
   "metadata": {},
   "outputs": [
    {
     "name": "stdout",
     "output_type": "stream",
     "text": [
      "0\n",
      "1\n",
      "2\n",
      "3\n",
      "4\n",
      "5\n",
      "6\n",
      "7\n",
      "8\n",
      "9\n"
     ]
    }
   ],
   "source": [
    "for i in range(0,10):\n",
    "    print(i)"
   ]
  },
  {
   "cell_type": "code",
   "execution_count": 11,
   "id": "01707462",
   "metadata": {},
   "outputs": [
    {
     "name": "stdout",
     "output_type": "stream",
     "text": [
      "10\n",
      "9\n",
      "8\n",
      "7\n",
      "6\n",
      "5\n",
      "4\n",
      "3\n",
      "2\n",
      "1\n",
      "0\n"
     ]
    }
   ],
   "source": [
    "for i in range(10,-1,-1):\n",
    "    print(i)"
   ]
  },
  {
   "cell_type": "code",
   "execution_count": 12,
   "id": "e381bd8f",
   "metadata": {},
   "outputs": [
    {
     "name": "stdout",
     "output_type": "stream",
     "text": [
      "########\n",
      "\n",
      "########\n",
      "\n",
      "########\n",
      "\n",
      "########\n",
      "\n",
      "########\n",
      "\n",
      "########\n",
      "\n",
      "########\n",
      "\n"
     ]
    }
   ],
   "source": [
    "for i in range(0,7):\n",
    "    for j in range(0,8):\n",
    "        print (\"#\",end=\"\")\n",
    "    print(\"\\n\")"
   ]
  },
  {
   "cell_type": "code",
   "execution_count": 13,
   "id": "6debe2bb",
   "metadata": {},
   "outputs": [
    {
     "name": "stdout",
     "output_type": "stream",
     "text": [
      "      #\n",
      "     ###\n",
      "    #####\n",
      "   #######\n",
      "  #########\n",
      " ###########\n"
     ]
    }
   ],
   "source": [
    "for i in range(1,7):\n",
    "    for j in range(0,7-i):\n",
    "        print(' ',end=\"\")\n",
    "    for j in range(0,2*i-1):\n",
    "        print(\"#\",end=\"\")\n",
    "    print(\"\")"
   ]
  },
  {
   "cell_type": "code",
   "execution_count": 14,
   "id": "a55902b8",
   "metadata": {},
   "outputs": [
    {
     "name": "stdout",
     "output_type": "stream",
     "text": [
      "0 x 0 = 0\n",
      "1 x 1 = 1\n",
      "2 x 2 = 4\n",
      "3 x 3 = 9\n",
      "4 x 4 = 16\n",
      "5 x 5 = 25\n",
      "6 x 6 = 36\n",
      "7 x 7 = 49\n",
      "8 x 8 = 64\n",
      "9 x 9 = 81\n",
      "10 x 10 = 100\n"
     ]
    }
   ],
   "source": [
    "for i in range(0,11):\n",
    "    print(i,'x',i,'=',i*i)"
   ]
  },
  {
   "cell_type": "code",
   "execution_count": 15,
   "id": "6b2e5eb8",
   "metadata": {},
   "outputs": [
    {
     "name": "stdout",
     "output_type": "stream",
     "text": [
      "Python\n",
      "Numpy\n",
      "Pandas\n",
      "Scikit\n",
      "Pytorch\n"
     ]
    }
   ],
   "source": [
    "lists = ['Python', 'Numpy','Pandas','Scikit', 'Pytorch']\n",
    "for i in lists:\n",
    "    print(i)"
   ]
  },
  {
   "cell_type": "code",
   "execution_count": 16,
   "id": "625ca893",
   "metadata": {},
   "outputs": [
    {
     "name": "stdout",
     "output_type": "stream",
     "text": [
      "0 2 4 6 8 10 12 14 16 18 20 22 24 26 28 30 32 34 36 38 40 42 44 46 48 50 52 54 56 58 60 62 64 66 68 70 72 74 76 78 80 82 84 86 88 90 92 94 96 98 100 "
     ]
    }
   ],
   "source": [
    "for i in range(0,101):\n",
    "    if i%2==0:\n",
    "        print(i,end=\" \")"
   ]
  },
  {
   "cell_type": "code",
   "execution_count": 17,
   "id": "b561fe24",
   "metadata": {},
   "outputs": [
    {
     "name": "stdout",
     "output_type": "stream",
     "text": [
      "1 3 5 7 9 11 13 15 17 19 21 23 25 27 29 31 33 35 37 39 41 43 45 47 49 51 53 55 57 59 61 63 65 67 69 71 73 75 77 79 81 83 85 87 89 91 93 95 97 99 "
     ]
    }
   ],
   "source": [
    "for i in range(0,101):\n",
    "    if i%2!=0:\n",
    "        print(i,end=\" \")"
   ]
  },
  {
   "cell_type": "code",
   "execution_count": 18,
   "id": "a2b8c345",
   "metadata": {},
   "outputs": [
    {
     "name": "stdout",
     "output_type": "stream",
     "text": [
      " The sum of all numbers is 5050\n"
     ]
    }
   ],
   "source": [
    "sum=0\n",
    "for i in range(0,101):\n",
    "    sum+=i\n",
    "print(' The sum of all numbers is',sum)"
   ]
  },
  {
   "cell_type": "code",
   "execution_count": 19,
   "id": "cedec8b9",
   "metadata": {},
   "outputs": [
    {
     "name": "stdout",
     "output_type": "stream",
     "text": [
      "The sum of all evens is 2550 . And the sum of all odds is 2500\n"
     ]
    }
   ],
   "source": [
    "sum_evens=0\n",
    "sum_odds=0\n",
    "for i in range(0,101):\n",
    "    if i%2==0:\n",
    "        sum_evens+=i\n",
    "    else:\n",
    "        sum_odds+=i\n",
    "\n",
    "print('The sum of all evens is',sum_evens,'. And the sum of all odds is',sum_odds)"
   ]
  },
  {
   "cell_type": "code",
   "execution_count": null,
   "id": "f5912340",
   "metadata": {},
   "outputs": [],
   "source": [
    "from countries import countries\n",
    "for c in countries:\n",
    "    print(c,end=\" , \")"
   ]
  },
  {
   "cell_type": "code",
   "execution_count": 20,
   "id": "3119afdd",
   "metadata": {},
   "outputs": [
    {
     "name": "stdout",
     "output_type": "stream",
     "text": [
      "['lemon', 'mango', 'orange', 'banana']\n"
     ]
    }
   ],
   "source": [
    "fruits_list = ['banana', 'orange', 'mango', 'lemon']\n",
    "i=0\n",
    "j=len(fruits_list)-1\n",
    "while(i<j):\n",
    "    tmp = fruits_list[i]\n",
    "    fruits_list[i] = fruits_list[j];\n",
    "    fruits_list[j]=tmp;\n",
    "    i+=1\n",
    "    j-=1\n",
    "print(fruits_list)"
   ]
  },
  {
   "cell_type": "code",
   "execution_count": null,
   "id": "f8df778a",
   "metadata": {},
   "outputs": [],
   "source": [
    "from countries_details_data import data"
   ]
  },
  {
   "cell_type": "code",
   "execution_count": null,
   "id": "b2710319",
   "metadata": {},
   "outputs": [],
   "source": []
  },
  {
   "cell_type": "code",
   "execution_count": null,
   "id": "b513b20a",
   "metadata": {},
   "outputs": [],
   "source": []
  },
  {
   "cell_type": "code",
   "execution_count": null,
   "id": "7e3daaae",
   "metadata": {},
   "outputs": [],
   "source": []
  },
  {
   "cell_type": "code",
   "execution_count": null,
   "id": "64cb07de",
   "metadata": {},
   "outputs": [],
   "source": []
  },
  {
   "cell_type": "code",
   "execution_count": null,
   "id": "2abd1b51",
   "metadata": {},
   "outputs": [],
   "source": []
  }
 ],
 "metadata": {
  "kernelspec": {
   "display_name": "Python 3 (ipykernel)",
   "language": "python",
   "name": "python3"
  },
  "language_info": {
   "codemirror_mode": {
    "name": "ipython",
    "version": 3
   },
   "file_extension": ".py",
   "mimetype": "text/x-python",
   "name": "python",
   "nbconvert_exporter": "python",
   "pygments_lexer": "ipython3",
   "version": "3.9.7"
  }
 },
 "nbformat": 4,
 "nbformat_minor": 5
}
