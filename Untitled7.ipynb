{
 "cells": [
  {
   "cell_type": "code",
   "execution_count": null,
   "id": "3ad8649c",
   "metadata": {},
   "outputs": [],
   "source": [
    "int age = 18"
   ]
  },
  {
   "cell_type": "code",
   "execution_count": null,
   "id": "59a15273",
   "metadata": {},
   "outputs": [],
   "source": [
    "float height = 163.5"
   ]
  },
  {
   "cell_type": "code",
   "execution_count": null,
   "id": "b3144aa2",
   "metadata": {},
   "outputs": [],
   "source": [
    "complex a = 3j"
   ]
  },
  {
   "cell_type": "code",
   "execution_count": 1,
   "id": "6874fcff",
   "metadata": {},
   "outputs": [
    {
     "name": "stdout",
     "output_type": "stream",
     "text": [
      "输入三角形底数: 20\n",
      "输入三角形高: 10\n",
      "三角形面积为 100.000000\n"
     ]
    }
   ],
   "source": [
    "b = int(input('输入三角形底数: '));\n",
    "\n",
    "h = float(input('输入三角形高: '));\n",
    "\n",
    "area = b*h*0.5;\n",
    "\n",
    "print('三角形面积为 %f' %area);"
   ]
  },
  {
   "cell_type": "code",
   "execution_count": 2,
   "id": "ecaf1eb5",
   "metadata": {},
   "outputs": [
    {
     "name": "stdout",
     "output_type": "stream",
     "text": [
      "输入三角形第一边长: 5\n",
      "输入三角形第二边长: 4\n",
      "输入三角形第三边长: 3\n",
      "三角形周长为 12.00\n"
     ]
    }
   ],
   "source": [
    "a = float(input('输入三角形第一边长: '));\n",
    "\n",
    "b = float(input('输入三角形第二边长: '));\n",
    "\n",
    "c = float(input('输入三角形第三边长: '));\n",
    "\n",
    "s = (a + b + c) ;\n",
    "print('三角形周长为 %0.2f' %s);"
   ]
  },
  {
   "cell_type": "code",
   "execution_count": 3,
   "id": "7405ac59",
   "metadata": {},
   "outputs": [
    {
     "name": "stdout",
     "output_type": "stream",
     "text": [
      "输入矩形长: 10\n",
      "输入矩形宽: 8\n",
      "矩形的周长为 36.000000\n",
      "矩形的面积为 80.000000\n"
     ]
    }
   ],
   "source": [
    "a = float(input('输入矩形长: '));\n",
    "\n",
    "b = float(input('输入矩形宽: '));\n",
    "\n",
    "s = (a+b)*2;\n",
    "\n",
    "area=a*b;\n",
    "print('矩形的周长为 %f' %s);\n",
    "print('矩形的面积为 %f' %area);"
   ]
  },
  {
   "cell_type": "code",
   "execution_count": 14,
   "id": "625204a6",
   "metadata": {},
   "outputs": [
    {
     "name": "stdout",
     "output_type": "stream",
     "text": [
      "输入圆半径：3\n",
      "圆面积为28.260000\n",
      "圆周长为18.840000\n"
     ]
    }
   ],
   "source": [
    "r = float(input('输入圆半径：'))\n",
    "pi = 3.14\n",
    "s = pi * r * r\n",
    "c = 2*pi*r \n",
    "print('圆面积为%f' %s)\n",
    "print('圆周长为%f' %c)"
   ]
  },
  {
   "cell_type": "code",
   "execution_count": 17,
   "id": "c1559e33",
   "metadata": {},
   "outputs": [
    {
     "name": "stdout",
     "output_type": "stream",
     "text": [
      "2\n",
      "1\n",
      "-2\n"
     ]
    }
   ],
   "source": [
    "def xielv(x):\n",
    "    return 2\n",
    "def x_jieju(x):\n",
    "    return 1\n",
    "def y_jieju(x):\n",
    "    return -2\n",
    "print(xielv(1))\n",
    "print(x_jieju(1))\n",
    "print(y_jieju(1))"
   ]
  },
  {
   "cell_type": "code",
   "execution_count": 7,
   "id": "98d293b7",
   "metadata": {},
   "outputs": [
    {
     "name": "stdout",
     "output_type": "stream",
     "text": [
      "2.0\n",
      "8.94427190999916\n"
     ]
    }
   ],
   "source": [
    "import math;\n",
    "p1=[2,2];\n",
    "p2=[6,10];\n",
    "xielv=abs((p1[1]-p2[1])/(p1[0]-p2[0]));\n",
    "juli= math.sqrt((p1[1]-p2[1])*(p1[1]-p2[1])+(p1[0]-p2[0])*(p1[0]-p2[0]));\n",
    "print(xielv);\n",
    "print (juli);"
   ]
  },
  {
   "cell_type": "code",
   "execution_count": 9,
   "id": "079602c1",
   "metadata": {},
   "outputs": [
    {
     "name": "stdout",
     "output_type": "stream",
     "text": [
      "enter number3\n",
      "number is odd\n"
     ]
    }
   ],
   "source": [
    "num=int(input('enter number'));\n",
    "if(num%2==0):\n",
    " print ('number is even');\n",
    "else:\n",
    " print ('number is odd');"
   ]
  },
  {
   "cell_type": "code",
   "execution_count": 10,
   "id": "36e3b7dd",
   "metadata": {},
   "outputs": [
    {
     "name": "stdout",
     "output_type": "stream",
     "text": [
      "2.0\n"
     ]
    }
   ],
   "source": [
    "#计算斜率\n",
    "def getSlope(x1,y1,x2,y2):\n",
    "    return (y2-y1)/(x2-x1);\n",
    "\n",
    "#计算x截距\n",
    "def getXIntercept():\n",
    "    return 1;\n",
    "\n",
    "#计算y截距\n",
    "def getYIntercept():\n",
    "    return -2;\n",
    "\n",
    "print(getSlope(2,2,6,10));"
   ]
  },
  {
   "cell_type": "code",
   "execution_count": 11,
   "id": "91d31c0c",
   "metadata": {},
   "outputs": [
    {
     "name": "stdout",
     "output_type": "stream",
     "text": [
      "16\n"
     ]
    }
   ],
   "source": [
    "def getY(x):\n",
    "    return x*x+6*x+9;\n",
    "\n",
    "\n",
    "print(getY(1));"
   ]
  },
  {
   "cell_type": "code",
   "execution_count": 15,
   "id": "53edb3fc",
   "metadata": {},
   "outputs": [
    {
     "name": "stdout",
     "output_type": "stream",
     "text": [
      "6\n",
      "11\n"
     ]
    }
   ],
   "source": [
    "print(len(\"python\"));\n",
    "\n",
    "print(len(\"datascience\"))"
   ]
  },
  {
   "cell_type": "code",
   "execution_count": 19,
   "id": "c3709d78",
   "metadata": {},
   "outputs": [
    {
     "name": "stdout",
     "output_type": "stream",
     "text": [
      "True\n",
      "True\n"
     ]
    }
   ],
   "source": [
    "x = 'python'\n",
    "y = 'cannon'\n",
    "print('on'in x)\n",
    "print('on'in y)"
   ]
  },
  {
   "cell_type": "code",
   "execution_count": 21,
   "id": "aa278f97",
   "metadata": {},
   "outputs": [
    {
     "name": "stdout",
     "output_type": "stream",
     "text": [
      "True\n"
     ]
    }
   ],
   "source": [
    "x = 'I hope this course is not full of jargon'\n",
    "print ('jargon' in x)"
   ]
  },
  {
   "cell_type": "code",
   "execution_count": 22,
   "id": "8a665be2",
   "metadata": {},
   "outputs": [
    {
     "name": "stdout",
     "output_type": "stream",
     "text": [
      "False\n",
      "False\n"
     ]
    }
   ],
   "source": [
    "x = 'python'\n",
    "y = 'cannon'\n",
    "print('on' not in x)\n",
    "print('on' not in y)"
   ]
  },
  {
   "cell_type": "code",
   "execution_count": 28,
   "id": "a05ed044",
   "metadata": {},
   "outputs": [
    {
     "name": "stdout",
     "output_type": "stream",
     "text": [
      "6.0\n"
     ]
    }
   ],
   "source": [
    "print(str(float(len('python'))))"
   ]
  },
  {
   "cell_type": "code",
   "execution_count": 29,
   "id": "8c2bc0ba",
   "metadata": {},
   "outputs": [
    {
     "name": "stdout",
     "output_type": "stream",
     "text": [
      "enter number5\n",
      "number is odd\n"
     ]
    }
   ],
   "source": [
    "num=int(input('enter number'))\n",
    "if(num%2==0):\n",
    "    print('number is even')\n",
    "else:\n",
    "    print('number is odd')"
   ]
  },
  {
   "cell_type": "code",
   "execution_count": 27,
   "id": "ab0b91c4",
   "metadata": {},
   "outputs": [
    {
     "name": "stdout",
     "output_type": "stream",
     "text": [
      "2.3333333333333335\n",
      "False\n"
     ]
    }
   ],
   "source": [
    "f=7/3\n",
    "print(7/3)\n",
    "print((7/3)==2.7)"
   ]
  },
  {
   "cell_type": "code",
   "execution_count": 25,
   "id": "0d688a00",
   "metadata": {},
   "outputs": [
    {
     "name": "stdout",
     "output_type": "stream",
     "text": [
      "False\n"
     ]
    }
   ],
   "source": [
    "def equals(a,b):\n",
    "    int(a);\n",
    "    int(b);\n",
    "    return a==b;\n",
    "print(equals(\"10\",10));"
   ]
  },
  {
   "cell_type": "code",
   "execution_count": 30,
   "id": "283f49a0",
   "metadata": {},
   "outputs": [
    {
     "name": "stdout",
     "output_type": "stream",
     "text": [
      "False\n"
     ]
    }
   ],
   "source": [
    "print(int(float('9.6'))==10)"
   ]
  },
  {
   "cell_type": "code",
   "execution_count": 23,
   "id": "aee3f543",
   "metadata": {},
   "outputs": [
    {
     "name": "stdout",
     "output_type": "stream",
     "text": [
      "小时数40\n",
      "每小时费率30\n",
      "周薪为1200.000000\n"
     ]
    }
   ],
   "source": [
    "a = float(input('小时数'))\n",
    "b = float(input('每小时费率'))\n",
    "c = a * b\n",
    "print('周薪为%f' %c)"
   ]
  },
  {
   "cell_type": "code",
   "execution_count": 26,
   "id": "577fbaa5",
   "metadata": {},
   "outputs": [
    {
     "name": "stdout",
     "output_type": "stream",
     "text": [
      "秒数3153600000.000000\n"
     ]
    }
   ],
   "source": [
    "a = 100 \n",
    "b = 365*24*60*60*a\n",
    "print('秒数%f' %b)"
   ]
  },
  {
   "cell_type": "code",
   "execution_count": 1,
   "id": "b067ad48",
   "metadata": {},
   "outputs": [
    {
     "name": "stdout",
     "output_type": "stream",
     "text": [
      "1 2 3 4 5 \n",
      "1 3 5 7 9 \n",
      "1 4 7 10 13 \n",
      "1 5 9 13 17 \n",
      "1 6 11 16 21 \n"
     ]
    }
   ],
   "source": [
    "i = 1\n",
    "j = 1 \n",
    "count=0\n",
    "while(i<=5):\n",
    "    j=1\n",
    "    while(count<5):\n",
    "        print(j,\"\",end='')\n",
    "        j+=i\n",
    "        count+=1\n",
    "    print(\"\")\n",
    "    i+=1\n",
    "    count=0"
   ]
  },
  {
   "cell_type": "code",
   "execution_count": null,
   "id": "d271e825",
   "metadata": {},
   "outputs": [],
   "source": []
  },
  {
   "cell_type": "code",
   "execution_count": null,
   "id": "17254f68",
   "metadata": {},
   "outputs": [],
   "source": []
  }
 ],
 "metadata": {
  "kernelspec": {
   "display_name": "Python 3 (ipykernel)",
   "language": "python",
   "name": "python3"
  },
  "language_info": {
   "codemirror_mode": {
    "name": "ipython",
    "version": 3
   },
   "file_extension": ".py",
   "mimetype": "text/x-python",
   "name": "python",
   "nbconvert_exporter": "python",
   "pygments_lexer": "ipython3",
   "version": "3.9.7"
  }
 },
 "nbformat": 4,
 "nbformat_minor": 5
}
