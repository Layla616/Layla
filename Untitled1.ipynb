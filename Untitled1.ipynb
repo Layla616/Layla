{
 "cells": [
  {
   "cell_type": "code",
   "execution_count": null,
   "id": "f07a6565",
   "metadata": {},
   "outputs": [],
   "source": [
    "fruits=('苹果'，'橘子')\n",
    "vegetables=('土豆','洋葱')\n",
    "food_tuple=(fruits,vegetables)\n",
    "print(food_tuple)"
   ]
  },
  {
   "cell_type": "code",
   "execution_count": null,
   "id": "cf9add72",
   "metadata": {},
   "outputs": [],
   "source": [
    "fruits=fruits+('香蕉','梨')\n",
    "vegetables=vegetables+('萝卜','大白菜')\n",
    "food_tuple=(fruits,vegetables)\n",
    "print(food_tuple)"
   ]
  },
  {
   "cell_type": "code",
   "execution_count": null,
   "id": "49ab6d78",
   "metadata": {},
   "outputs": [],
   "source": [
    "print('size of food_tuple:',len(food_tuple[0])+len(food_tuple[1]))"
   ]
  },
  {
   "cell_type": "code",
   "execution_count": null,
   "id": "362efb9f",
   "metadata": {},
   "outputs": [],
   "source": [
    "mushroom=('杏鲍菇','香菇')\n",
    "beverage=('可口可乐','芬达')\n",
    "food_tuple=(fruits,vegetables,mushroom,beverage)\n",
    "print(food_tuple)"
   ]
  },
  {
   "cell_type": "code",
   "execution_count": null,
   "id": "64b01cce",
   "metadata": {},
   "outputs": [],
   "source": [
    "fruits=food_tuple[0]\n",
    "vegetables=food_tuple[1]\n",
    "mushroom=food_tuple[2]\n",
    "beverage=food_tuple[3]\n",
    "print(\"fruits:\",fruits)\n",
    "print(\"vegetables:\",vegetables)\n",
    "print(\"mushroom:\",mushroom)\n",
    "print(\"beverage:\",beverage)"
   ]
  },
  {
   "cell_type": "code",
   "execution_count": null,
   "id": "cf09043a",
   "metadata": {},
   "outputs": [],
   "source": [
    "food_list=list(food_tuple)\n",
    "print(\"food_list\",food_list)"
   ]
  },
  {
   "cell_type": "code",
   "execution_count": null,
   "id": "35504861",
   "metadata": {},
   "outputs": [],
   "source": [
    "middle=int(len(food_tuple)/2)\n",
    "print('middle:',middle)\n",
    "food_tuple_middle=food_tuple[middle:]\n",
    "print(food_tuple_middle)"
   ]
  },
  {
   "cell_type": "code",
   "execution_count": null,
   "id": "266b3502",
   "metadata": {},
   "outputs": [],
   "source": [
    "preThreeth=food_list[:3]\n",
    "print(preThreeth)\n",
    "lastThreeth=food_list[-3:]\n",
    "print(lastThreeth)"
   ]
  },
  {
   "cell_type": "code",
   "execution_count": null,
   "id": "219a47c7",
   "metadata": {},
   "outputs": [],
   "source": [
    "try:\n",
    "    del food_tuple\n",
    "except:\n",
    "    print(\"food_tuple不存在！\")\n",
    "else:\n",
    "    print(\"food_tuple已删除！\")"
   ]
  },
  {
   "cell_type": "code",
   "execution_count": null,
   "id": "87eb7d0f",
   "metadata": {},
   "outputs": [],
   "source": [
    "asian_countries=('India','China','Singapore','Thailand','Indonesia')\n",
    "try:\n",
    "    asian_countries.index('Finland')\n",
    "except:\n",
    "    print('Finland is not a asian country')\n",
    "else:\n",
    "    print('Finland is a asian country')\n",
    "    \n",
    "try:\n",
    "    asian_countries.index('India')\n",
    "except:\n",
    "    print('India is not a asian country')\n",
    "else:\n",
    "    print('India is a asian country')"
   ]
  }
 ],
 "metadata": {
  "kernelspec": {
   "display_name": "Python 3 (ipykernel)",
   "language": "python",
   "name": "python3"
  },
  "language_info": {
   "codemirror_mode": {
    "name": "ipython",
    "version": 3
   },
   "file_extension": ".py",
   "mimetype": "text/x-python",
   "name": "python",
   "nbconvert_exporter": "python",
   "pygments_lexer": "ipython3",
   "version": "3.9.7"
  }
 },
 "nbformat": 4,
 "nbformat_minor": 5
}
